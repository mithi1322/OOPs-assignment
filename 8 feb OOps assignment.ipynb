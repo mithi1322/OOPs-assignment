{
 "cells": [
  {
   "cell_type": "markdown",
   "id": "707dba2b-cefe-4d28-bc7b-e7d3a8bc3a9e",
   "metadata": {},
   "source": [
    "Q1. What is Abstraction in OOps? Explain with an example."
   ]
  },
  {
   "cell_type": "code",
   "execution_count": 1,
   "id": "c4f4f142-a32c-4534-883c-0ca33ec7f6c8",
   "metadata": {},
   "outputs": [
    {
     "data": {
      "text/plain": [
       "'Objects are the building blocks of Object-Oriented Programming.\\nAn object contains some properties and methods.\\nWe can hide them from the outer world through access modifiers.\\nWe can provide access only for required functions and properties to the other programs.'"
      ]
     },
     "execution_count": 1,
     "metadata": {},
     "output_type": "execute_result"
    }
   ],
   "source": [
    "'''Objects are the building blocks of Object-Oriented Programming.\n",
    "An object contains some properties and methods.\n",
    "We can hide them from the outer world through access modifiers.\n",
    "We can provide access only for required functions and properties to the other programs.'''\n",
    "\n",
    "#Example\n",
    "#We can heat our food in Microwave. We press some buttons to set the timer and type of food. Finally, \n",
    "#we get a hot and delicious meal. The microwave internal details are hidden from us.\n",
    "#We have been given access to the functionality in a very simple manner."
   ]
  },
  {
   "cell_type": "markdown",
   "id": "15b3a7b6-72f5-44de-a981-adda807247c1",
   "metadata": {},
   "source": [
    "Q2. Differentiate between Abstraction and Encapsulation. Explain with an example."
   ]
  },
  {
   "cell_type": "code",
   "execution_count": 2,
   "id": "14a9a9b1-6aff-4979-a37e-37ae8783c98c",
   "metadata": {},
   "outputs": [
    {
     "data": {
      "text/plain": [
       "'The example of calculator, Encapsulation is the internal circuits, battery, etc. that combine to make it a calculator.\\nAbstraction is the different buttons like on-off, clear and other buttons provided to operate it.'"
      ]
     },
     "execution_count": 2,
     "metadata": {},
     "output_type": "execute_result"
    }
   ],
   "source": [
    "'''Encapsulation is basically binding data members & member functions into a single unit called Class.\n",
    "Whereas Abstraction is basically to hide implementation complexity & provide ease of access to the users.'''\n",
    "\n",
    "#Example\n",
    "'''The example of calculator, Encapsulation is the internal circuits, battery, etc. that combine to make it a calculator.\n",
    "Abstraction is the different buttons like on-off, clear and other buttons provided to operate it.'''"
   ]
  },
  {
   "cell_type": "markdown",
   "id": "6510c107-83a6-422b-8a34-d9721ed6073a",
   "metadata": {},
   "source": [
    "Q3. What is abc module in python? Why is it used?"
   ]
  },
  {
   "cell_type": "code",
   "execution_count": 3,
   "id": "1c14370e-6c79-492b-9734-d16722e97c99",
   "metadata": {},
   "outputs": [
    {
     "data": {
      "text/plain": [
       "'The ‘abc’ module in the Python library provides the infrastructure for defining custom abstract base classes.\\nIt is used to make the method of the abstract class as an abstract method.'"
      ]
     },
     "execution_count": 3,
     "metadata": {},
     "output_type": "execute_result"
    }
   ],
   "source": [
    "'''The ‘abc’ module in the Python library provides the infrastructure for defining custom abstract base classes.\n",
    "It is used to make the method of the abstract class as an abstract method.'''"
   ]
  },
  {
   "cell_type": "markdown",
   "id": "300c4f9a-0979-4ab3-b3a6-fce5f2be339c",
   "metadata": {},
   "source": [
    "Q4. How can we achieve data abstraction?"
   ]
  },
  {
   "cell_type": "code",
   "execution_count": 4,
   "id": "57b2d1bc-7fbc-4d2e-adf8-a4d5e2ed3796",
   "metadata": {},
   "outputs": [],
   "source": [
    "# Abstraction can be achieved by having/using abstract classes and methods in our programs."
   ]
  },
  {
   "cell_type": "markdown",
   "id": "26644f79-25da-492f-a4ac-c347ada1dfde",
   "metadata": {},
   "source": [
    "Q5. Can we create an instance of an abstract class? Explain your answer."
   ]
  },
  {
   "cell_type": "code",
   "execution_count": 6,
   "id": "08be5ad7-3a20-487d-a5b8-42dcd8e17b54",
   "metadata": {},
   "outputs": [
    {
     "data": {
      "text/plain": [
       "' we cannot create an instance or object of an abstract class in Python but they can be subclassed.\\nWhen an abstract class is subclassed, the subclass usually provides implementations for all of the abstract methods in its parent class.\\nHowever, if it does not, then the subclass must also be declared abstract.'"
      ]
     },
     "execution_count": 6,
     "metadata": {},
     "output_type": "execute_result"
    }
   ],
   "source": [
    "''' we cannot create an instance or object of an abstract class in Python but they can be subclassed.\n",
    "When an abstract class is subclassed, the subclass usually provides implementations for all of the abstract methods in its parent class.\n",
    "However, if it does not, then the subclass must also be declared abstract.'''"
   ]
  },
  {
   "cell_type": "code",
   "execution_count": null,
   "id": "038e4181-23ba-44ad-902b-6658b096549a",
   "metadata": {},
   "outputs": [],
   "source": []
  },
  {
   "cell_type": "code",
   "execution_count": null,
   "id": "dbfb8eb6-6a9e-4374-a421-4e51f22ac21e",
   "metadata": {},
   "outputs": [],
   "source": []
  }
 ],
 "metadata": {
  "kernelspec": {
   "display_name": "Python 3 (ipykernel)",
   "language": "python",
   "name": "python3"
  },
  "language_info": {
   "codemirror_mode": {
    "name": "ipython",
    "version": 3
   },
   "file_extension": ".py",
   "mimetype": "text/x-python",
   "name": "python",
   "nbconvert_exporter": "python",
   "pygments_lexer": "ipython3",
   "version": "3.10.8"
  }
 },
 "nbformat": 4,
 "nbformat_minor": 5
}
