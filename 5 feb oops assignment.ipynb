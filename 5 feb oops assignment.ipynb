{
 "cells": [
  {
   "cell_type": "markdown",
   "id": "4094f721-8361-4c6d-af35-d20cbe260372",
   "metadata": {},
   "source": [
    "Q1. Explain Class and Object with respect to Object-Oriented Programming. Give a suitable example."
   ]
  },
  {
   "cell_type": "code",
   "execution_count": 2,
   "id": "9a424ff1-0c6c-4676-b010-2d21a93ee22b",
   "metadata": {},
   "outputs": [
    {
     "name": "stdout",
     "output_type": "stream",
     "text": [
      "5\n"
     ]
    }
   ],
   "source": [
    "# A class is a user-defined blueprint or prototype from which objects are created.\n",
    "\n",
    "# Class: A Class is like an object constructor, or a \"blueprint\" for creating objects.\n",
    "# Example:\n",
    "class MyClass:\n",
    "    x = 5\n",
    "\n",
    "# Object: An Object is an instance of a Class.\n",
    "# Example: \n",
    "p1 = MyClass()\n",
    "print(p1.x)"
   ]
  },
  {
   "cell_type": "markdown",
   "id": "50379bbc-c2b5-407c-ab64-1c2882060583",
   "metadata": {},
   "source": [
    "Q2. Name the four pillars of OOPs."
   ]
  },
  {
   "cell_type": "code",
   "execution_count": 3,
   "id": "61cf13af-236d-4209-a9e7-8afa6d1cfa14",
   "metadata": {},
   "outputs": [],
   "source": [
    "# Four pillars of OOPs Abstraction,Encapsulation,Inheritance,Polymorphism"
   ]
  },
  {
   "cell_type": "markdown",
   "id": "0522c440-275e-4797-99d2-39cd0971bc6e",
   "metadata": {},
   "source": [
    "Q3. Explain why the __init__() function is used. Give a suitable example."
   ]
  },
  {
   "cell_type": "code",
   "execution_count": 5,
   "id": "f0f1548a-cac9-4831-8101-91e37196f0bb",
   "metadata": {},
   "outputs": [
    {
     "data": {
      "text/plain": [
       "(455, 'mithi@gmail.com', 9555555555)"
      ]
     },
     "execution_count": 5,
     "metadata": {},
     "output_type": "execute_result"
    }
   ],
   "source": [
    "# Every time an object is created from a class, the __init__function is called.\n",
    "# The __init__ method only allows the class to initialize the object's attributes. It is only used within classes.\n",
    "class pwskills1:\n",
    "    def __init__(self,phone_no,email_id,student_id):\n",
    "        self.phone_no=phone_no\n",
    "        self.email_id=email_id\n",
    "        self.student_id=student_id\n",
    "    def return_student_details(self):\n",
    "        return self.student_id,self.email_id,self.phone_no\n",
    "    \n",
    "mithilesh=pwskills1(9555555555,\"mithi@gmail.com\",455)\n",
    "mithilesh.return_student_details()"
   ]
  },
  {
   "cell_type": "markdown",
   "id": "f6fed1ea-269b-451a-877d-dcf2771187fa",
   "metadata": {},
   "source": [
    "Q4. Why self is used in OOPs?"
   ]
  },
  {
   "cell_type": "code",
   "execution_count": null,
   "id": "7fccf4a0-b7bb-4310-80b5-4c6dc4a693b9",
   "metadata": {},
   "outputs": [],
   "source": [
    "# The self parameter is a reference to the current instance of the class, and is used to access variables that belongs to the class."
   ]
  },
  {
   "cell_type": "markdown",
   "id": "48cdda8c-ef98-43f9-b8b5-37e784ad3186",
   "metadata": {},
   "source": [
    "Q5. What is inheritance? Give an example for each type of inheritance."
   ]
  },
  {
   "cell_type": "code",
   "execution_count": 6,
   "id": "d9ce051a-ba5f-4e21-a0bc-1fd718ece8b8",
   "metadata": {},
   "outputs": [],
   "source": [
    "# Inheritance is the procedure in which one class inherits the attributes and methods of another class. \n",
    "# The class whose properties and methods are inherited is known as the parent class or superclass. \n",
    "# And the class that inherits the properties from the parent class is the child class or derived class."
   ]
  },
  {
   "cell_type": "code",
   "execution_count": null,
   "id": "ec18e413-afe9-404e-a631-7514bebe86fb",
   "metadata": {},
   "outputs": [],
   "source": []
  }
 ],
 "metadata": {
  "kernelspec": {
   "display_name": "Python 3 (ipykernel)",
   "language": "python",
   "name": "python3"
  },
  "language_info": {
   "codemirror_mode": {
    "name": "ipython",
    "version": 3
   },
   "file_extension": ".py",
   "mimetype": "text/x-python",
   "name": "python",
   "nbconvert_exporter": "python",
   "pygments_lexer": "ipython3",
   "version": "3.10.8"
  }
 },
 "nbformat": 4,
 "nbformat_minor": 5
}
