{
 "cells": [
  {
   "cell_type": "markdown",
   "id": "9b605a02-e1b0-48eb-bc43-98c807750b72",
   "metadata": {},
   "source": [
    "Q1. Which function is used to open a file? What are the different modes of opening a file? Explain each mode \n",
    "of file opening."
   ]
  },
  {
   "cell_type": "markdown",
   "id": "6d95aebf-2bdd-4355-a4b7-214525679e81",
   "metadata": {},
   "source": [
    "Answer:\n",
    "\n",
    "The open() function is used to open a file in Python.\n",
    "and there are many modes in which a file can be opened in Python\n",
    "\n",
    "1. r: This mode is used to open a file for reading. The file pointer is placed at the beginning of the file. If the file does not exist, an error will occur.\n",
    "\n",
    "2. w: This mode is used to open a file for writing. If the file does not exist, a new file will be created. If the file exists, it will be overwritten.\n",
    "\n",
    "3. a: This mode is used to open a file for appending. If the file does not exist, a new file will be created. If the file exists, the new data will be added to the end of the file.\n",
    "\n",
    "4. x: This mode is used to create a new file and open it for writing. If the file already exists, an error will occur.\n",
    "\n",
    "5. b: This mode is used to open a file in binary mode.\n",
    "\n",
    "6. t: This mode is used to open a file in text mode.\n",
    "\n",
    "7. +: This mode is used to open a file for both reading and writing."
   ]
  },
  {
   "cell_type": "markdown",
   "id": "1ec1abe7-bd5d-4412-96a1-baa92255c73f",
   "metadata": {},
   "source": [
    "Q2. Why close() function is used? Why is it important to close a file?\n"
   ]
  },
  {
   "cell_type": "markdown",
   "id": "5efce953-2d8a-4e94-a7f1-ad6b9c61f290",
   "metadata": {},
   "source": [
    "Answer:\n",
    "\n",
    "The close() function is used to close an open file in Python.\n",
    "It is important to close a file after we are done reading from it or writing to it because \n",
    "it frees up system resources associated with the file.\n",
    "\n",
    "Closing a file also ensures that all data that was written to the file is properly saved and available for use by other programs or users.\n",
    "If we don't close a file properly, data might not be saved and could be lost permanently."
   ]
  },
  {
   "cell_type": "markdown",
   "id": "40574a19-593d-4509-b43c-6d84d5f57673",
   "metadata": {},
   "source": [
    "Q3. Write a python program to create a text file. Write ‘I want to become a Data Scientist’ in that file. Then \n",
    "close the file. Open this file and read the content of the file."
   ]
  },
  {
   "cell_type": "code",
   "execution_count": null,
   "id": "c2c77419-c57e-47e6-a3a6-5c731ee01846",
   "metadata": {},
   "outputs": [],
   "source": [
    "# Answer:\n",
    "file = open(\"my_file.txt\", \"w\")\n",
    "file.write(\"I want to become a Data Scientist\")\n",
    "file.close()\n",
    "\n",
    "file = open(\"my_file.txt\", \"r\")\n",
    "content = file.read()\n",
    "print(content)\n",
    "file.close()\n"
   ]
  },
  {
   "cell_type": "markdown",
   "id": "1e51e905-40f9-4de2-bc1a-834a63aba578",
   "metadata": {},
   "source": [
    "Q4. Explain the following with python code: read(), readline() and readlines()."
   ]
  },
  {
   "cell_type": "code",
   "execution_count": null,
   "id": "513eecbd-8d9b-48a8-b96b-1fe4cf1a7cdd",
   "metadata": {},
   "outputs": [],
   "source": [
    "# Answer:\n",
    "# read(): This method reads the entire contents of a file and returns it as a string.\n",
    "\n",
    "file = open(\"my_file.txt\", \"r\")\n",
    "content = file.read()\n",
    "print(content)\n",
    "file.close()\n",
    "\n",
    "# readline(): This method reads a single line from a file and returns it as a string.\n",
    "\n",
    "file = open(\"my_file.txt\", \"r\")\n",
    "line = file.readline()\n",
    "print(line)\n",
    "file.close()\n",
    "\n",
    "# readlines(): This method reads all the lines of a file and returns them as a list of strings.\n",
    "\n",
    "file = open(\"my_file.txt\", \"r\")\n",
    "lines = file.readlines()\n",
    "for line in lines:\n",
    "    print(line)\n",
    "file.close()\n",
    "\n"
   ]
  },
  {
   "cell_type": "markdown",
   "id": "cd2948c5-91fc-4cae-a0b5-ddb0ce10f73f",
   "metadata": {},
   "source": [
    "Q5. Explain why with statement is used with open(). What is the advantage of using with statement and open() together?"
   ]
  },
  {
   "cell_type": "markdown",
   "id": "96128d1c-66bb-47b3-a6f7-374b1e36b5e0",
   "metadata": {},
   "source": [
    "Answer\n",
    "\n",
    "When 'with' is used 'with open()', it automatically handles opening and closing of the file. This is advantageous because it eliminates the need for the programmer to explicitly close the file, which can be easy to forget and can lead to errors or bugs in the code. By using 'with' statement 'with open()', the file is closed automatically after the block of code is executed, ensuring that the resources are properly managed and released"
   ]
  },
  {
   "cell_type": "markdown",
   "id": "06837497-0fb3-4bfb-ace7-c9091604344c",
   "metadata": {},
   "source": [
    "Q6. Explain the write() and writelines() functions. Give a suitable example."
   ]
  },
  {
   "cell_type": "code",
   "execution_count": null,
   "id": "c98065ba-65a0-43e5-ab88-7216a521e66e",
   "metadata": {},
   "outputs": [],
   "source": [
    "# Answer:\n",
    "# In Python, the write() function is used to write data to a file.\n",
    "\n",
    "file = open(\"test.txt\", \"w\")\n",
    "file.write(\"Hello World\")\n",
    "file.close()\n",
    "\n",
    "# The writelines() function, on the other hand, is used to write a list of strings to a file.\n",
    "\n",
    "file = open(\"test.txt\", \"w\")\n",
    "lines = [\"Line 1\\n\", \"Line 2\\n\", \"Line 3\\n\"]\n",
    "file.writelines(lines)\n",
    "file.close()\n",
    "\n",
    "\n",
    "file = open(\"test.txt\", \"r\")\n",
    "lines = file.readlines()\n",
    "for line in lines:\n",
    "    print(line)\n",
    "file.close()\n"
   ]
  },
  {
   "cell_type": "code",
   "execution_count": null,
   "id": "62215c5a-87cf-47c3-acea-05b7439ea740",
   "metadata": {},
   "outputs": [],
   "source": []
  },
  {
   "cell_type": "code",
   "execution_count": null,
   "id": "1a1424ff-441c-42ff-88b4-58ac4ccba94b",
   "metadata": {},
   "outputs": [],
   "source": []
  }
 ],
 "metadata": {
  "kernelspec": {
   "display_name": "Python 3 (ipykernel)",
   "language": "python",
   "name": "python3"
  },
  "language_info": {
   "codemirror_mode": {
    "name": "ipython",
    "version": 3
   },
   "file_extension": ".py",
   "mimetype": "text/x-python",
   "name": "python",
   "nbconvert_exporter": "python",
   "pygments_lexer": "ipython3",
   "version": "3.10.8"
  }
 },
 "nbformat": 4,
 "nbformat_minor": 5
}
